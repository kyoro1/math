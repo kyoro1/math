{
 "cells": [
  {
   "cell_type": "markdown",
   "id": "7ff43708",
   "metadata": {},
   "source": [
    "Suppose you're on a game show, and you're given the choice of three doors: Behind one door is a car; behind the others, goats. You pick a door, say No. 1, and the host, who knows what's behind the doors, opens another door, say No. 3, which has a goat. He then says to you, \"Do you want to pick door No. 2?\" Is it to your advantage to switch your choice?\n",
    "ref. https://en.wikipedia.org/wiki/Monty_Hall_problem"
   ]
  },
  {
   "cell_type": "code",
   "execution_count": 1,
   "id": "4fabc453",
   "metadata": {},
   "outputs": [],
   "source": [
    "import random\n",
    "import pandas as pd"
   ]
  },
  {
   "cell_type": "code",
   "execution_count": 3,
   "id": "cd6657ed",
   "metadata": {},
   "outputs": [
    {
     "data": {
      "text/plain": [
       "<AxesSubplot:>"
      ]
     },
     "execution_count": 3,
     "metadata": {},
     "output_type": "execute_result"
    },
    {
     "data": {
      "image/png": "[encoded data removed]",
      "text/plain": [
       "<Figure size 432x288 with 1 Axes>"
      ]
     },
     "metadata": {
      "needs_background": "light"
     },
     "output_type": "display_data"
    }
   ],
   "source": [
    "doors = [0, 1, 2]\n",
    "\n",
    "N = 1000\n",
    "\n",
    "atari_counter_sonomama, atari_counter_monty, total_counter = 0, 0, 0\n",
    "sonomama_seikai, monty_seikai = [], []\n",
    "\n",
    "total_count = []\n",
    "for _ in range(N):\n",
    "    # Setting of doors\n",
    "    door_hit = random.choice(doors)                               ## Hit!    :)\n",
    "    doors_hazure = [door for door in doors if door != door_hit]  ## Not hit :(\n",
    "\n",
    "    ## Select a door in random\n",
    "    door_chosen = random.choice(doors)\n",
    "\n",
    "    ## Advisory of \"Not hit\" door\n",
    "    teach_hazure = random.choice([door for door in doors_hazure if door != door_chosen])\n",
    "    \n",
    "    ## Select another door from \"not hit\" & remaining doors\n",
    "    another_door = random.choice([door for door in doors if (door != teach_hazure) and (door != door_chosen)])\n",
    "    \n",
    "    # Summary\n",
    "    total_counter += 1\n",
    "    ## Judge correctness\n",
    "    if door_chosen == door_hit: ## Hit with original door\n",
    "        atari_counter_sonomama += 1\n",
    "    if another_door == door_hit:  ## Hit after selecting another door\n",
    "        atari_counter_monty += 1\n",
    "\n",
    "    total_count.append([atari_counter_sonomama / total_counter, atari_counter_monty / total_counter])\n",
    "\n",
    "pd.DataFrame(total_count, columns=['original choice', 'another choice']).plot()"
   ]
  },
  {
   "cell_type": "code",
   "execution_count": null,
   "id": "fbced976",
   "metadata": {},
   "outputs": [],
   "source": []
  }
 ],
 "metadata": {
  "kernelspec": {
   "display_name": "Python 3",
   "language": "python",
   "name": "python3"
  },
  "language_info": {
   "codemirror_mode": {
    "name": "ipython",
    "version": 3
   },
   "file_extension": ".py",
   "mimetype": "text/x-python",
   "name": "python",
   "nbconvert_exporter": "python",
   "pygments_lexer": "ipython3",
   "version": "3.9.5"
  }
 },
 "nbformat": 4,
 "nbformat_minor": 5
}
