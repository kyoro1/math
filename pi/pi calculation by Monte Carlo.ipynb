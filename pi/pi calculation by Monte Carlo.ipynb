{
 "cells": [
  {
   "cell_type": "code",
   "execution_count": 1,
   "id": "1cdf4278",
   "metadata": {},
   "outputs": [],
   "source": [
    "import numpy as np\n",
    "import random\n",
    "import pandas as pd\n",
    "import matplotlib.pyplot as plt"
   ]
  },
  {
   "cell_type": "code",
   "execution_count": 5,
   "id": "11913579",
   "metadata": {},
   "outputs": [],
   "source": [
    "pi_count, total_count = 0, 0\n",
    "N = 10000\n",
    "count_list = []"
   ]
  },
  {
   "cell_type": "code",
   "execution_count": 6,
   "id": "976e77b4",
   "metadata": {},
   "outputs": [],
   "source": [
    "for _ in range(N):\n",
    "    x, y = random.random(), random.random()\n",
    "    r = np.sqrt(x ** 2 + y ** 2)\n",
    "\n",
    "    total_count += 1\n",
    "\n",
    "    if r < 1:\n",
    "        pi_count += 1\n",
    "    count_list.append(pi_count / total_count * 4)"
   ]
  },
  {
   "cell_type": "code",
   "execution_count": 10,
   "id": "13d3e378",
   "metadata": {},
   "outputs": [
    {
     "data": {
      "text/plain": [
       "Text(0.5, 1.0, 'Pi calculation by Monte Carlo simulation')"
      ]
     },
     "execution_count": 10,
     "metadata": {},
     "output_type": "execute_result"
    },
    {
     "data": {
      "image/png": "[encoded data removed]",
      "text/plain": [
       "<Figure size 432x288 with 1 Axes>"
      ]
     },
     "metadata": {
      "needs_background": "light"
     },
     "output_type": "display_data"
    }
   ],
   "source": [
    "pd.DataFrame(count_list).plot(legend='pi')\n",
    "plt.hlines(y=np.pi, xmin=0, xmax=N, color='red')\n",
    "plt.title('Pi calculation by Monte Carlo simulation')"
   ]
  },
  {
   "cell_type": "code",
   "execution_count": null,
   "id": "0ca10b5f",
   "metadata": {},
   "outputs": [],
   "source": []
  }
 ],
 "metadata": {
  "kernelspec": {
   "display_name": "Python 3",
   "language": "python",
   "name": "python3"
  },
  "language_info": {
   "codemirror_mode": {
    "name": "ipython",
    "version": 3
   },
   "file_extension": ".py",
   "mimetype": "text/x-python",
   "name": "python",
   "nbconvert_exporter": "python",
   "pygments_lexer": "ipython3",
   "version": "3.9.5"
  }
 },
 "nbformat": 4,
 "nbformat_minor": 5
}
