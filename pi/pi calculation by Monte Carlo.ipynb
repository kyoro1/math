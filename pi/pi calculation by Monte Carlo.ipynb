{
 "cells": [
  {
   "cell_type": "markdown",
   "id": "36c78dfc",
   "metadata": {},
   "source": [
    "# Calculation of $\\pi$ with Monte Carlo simulation\n",
    "\n",
    "1. Put lots of $(x, y)$ in $[0, 1]\\times[0, 1]$ randomly\n",
    "2. Measure the distance between origin and $(x, y)$ with Pythagorean proposition\n",
    "3. If the distance < 1, it deserves to count, otherwise ignore\n",
    "\n",
    "<img style=\"width:300px\" src=\"./data/monte_carlo.png\" />"
   ]
  },
  {
   "cell_type": "code",
   "execution_count": 1,
   "id": "64bac2a8",
   "metadata": {},
   "outputs": [],
   "source": [
    "import numpy as np\n",
    "import random\n",
    "import pandas as pd\n",
    "import matplotlib.pyplot as plt"
   ]
  },
  {
   "cell_type": "code",
   "execution_count": 2,
   "id": "d2d8d06d",
   "metadata": {},
   "outputs": [],
   "source": [
    "pi_count, total_count = 0, 0\n",
    "N = 10000\n",
    "count_list = []"
   ]
  },
  {
   "cell_type": "code",
   "execution_count": 3,
   "id": "3df8cd70",
   "metadata": {},
   "outputs": [],
   "source": [
    "for _ in range(N):\n",
    "    x, y = random.random(), random.random()\n",
    "    r = x ** 2 + y ** 2\n",
    "\n",
    "    total_count += 1\n",
    "\n",
    "    if r < 1:\n",
    "        pi_count += 1\n",
    "    count_list.append(pi_count / total_count * 4)"
   ]
  },
  {
   "cell_type": "code",
   "execution_count": 5,
   "id": "f4d84c60",
   "metadata": {},
   "outputs": [
    {
     "data": {
      "text/plain": [
       "Text(0.5, 1.0, 'Pi calculation by Monte Carlo simulation')"
      ]
     },
     "execution_count": 5,
     "metadata": {},
     "output_type": "execute_result"
    },
    {
     "data": {
      "image/png": "[encoded data removed]",
      "text/plain": [
       "<Figure size 432x288 with 1 Axes>"
      ]
     },
     "metadata": {
      "needs_background": "light"
     },
     "output_type": "display_data"
    }
   ],
   "source": [
    "pd.DataFrame(count_list).plot(legend=False, color='green')\n",
    "plt.hlines(y=np.pi, xmin=0, xmax=N, color='red')\n",
    "plt.title('Pi calculation by Monte Carlo simulation')"
   ]
  },
  {
   "cell_type": "code",
   "execution_count": null,
   "id": "8ede36da",
   "metadata": {},
   "outputs": [],
   "source": []
  }
 ],
 "metadata": {
  "kernelspec": {
   "display_name": "Python 3",
   "language": "python",
   "name": "python3"
  },
  "language_info": {
   "codemirror_mode": {
    "name": "ipython",
    "version": 3
   },
   "file_extension": ".py",
   "mimetype": "text/x-python",
   "name": "python",
   "nbconvert_exporter": "python",
   "pygments_lexer": "ipython3",
   "version": "3.9.5"
  }
 },
 "nbformat": 4,
 "nbformat_minor": 5
}
